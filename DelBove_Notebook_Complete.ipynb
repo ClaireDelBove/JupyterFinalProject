{
 "cells": [
  {
   "cell_type": "markdown",
   "metadata": {},
   "source": [
    "<center>\n",
    "    <img src=\"https://s3-api.us-geo.objectstorage.softlayer.net/cf-courses-data/CognitiveClass/Logos/organization_logo/organization_logo.png\" width=\"300\" alt=\"cognitiveclass.ai logo\"  />\n",
    "</center>\n"
   ]
  },
  {
   "cell_type": "markdown",
   "metadata": {},
   "source": [
    "#### Add your code below following the instructions given in the course\n"
   ]
  },
  {
   "cell_type": "markdown",
   "metadata": {},
   "source": [
    "# My Jupyter Notebook on IBM Watson Studio"
   ]
  },
  {
   "cell_type": "markdown",
   "metadata": {},
   "source": [
    "__Claire DelBove, PhD__<br>\n",
    "Biologist, future data scientist"
   ]
  },
  {
   "cell_type": "markdown",
   "metadata": {},
   "source": [
    "_I became interested in data science during a postdoctoral fellowship when I took a 5 day course on analyzing RNAseq data and next-generation sequencing data. I learned R and was able to process my own data going forward. I enjoyed the work and began considering data science a potential career path._"
   ]
  },
  {
   "cell_type": "markdown",
   "metadata": {},
   "source": [
    "### After the number of puppies, dogs, and cats at an animal shelter is declared, the total number of animals housed at a shelter will be calculated and printed."
   ]
  },
  {
   "cell_type": "code",
   "execution_count": 11,
   "metadata": {},
   "outputs": [
    {
     "name": "stdout",
     "output_type": "stream",
     "text": [
      "57\n"
     ]
    }
   ],
   "source": [
    "puppies = 15\n",
    "dogs = 30\n",
    "cats = 12\n",
    "Adoptable_animals = puppies + dogs + cats\n",
    "print(Adoptable_animals)"
   ]
  },
  {
   "cell_type": "markdown",
   "metadata": {},
   "source": [
    "## Adoptable Animals!\n",
    "\n",
    "The only puppies ready to adopt are Chihuahuas. [Please consider adopting a chihuahua.](https://petpress.net/14-reasons-that-it-is-a-good-idea-to-adopt-a-chihuahua/2/) 29 wonderful adult dogs are also available, including the chihuahua mother that needs a home now that her 7 puppies are weaned.\n",
    "\n",
    "> ~~We also have cats!~~ \n",
    "\n",
    "You may reserve a cat, but we are currently not able to offer any of our cats for adoption until they are tested for FIV after an accidental exposure.\n",
    "\n",
    "---\n",
    "\n",
    "| Animals   | Adoptable Now| Total Housed|\n",
    "| ----------|-------------:| -----------:|\n",
    "|**Puppies**| 7            | 15          |\n",
    "|**Dogs**   | 29           | 30          |\n",
    "|**Cats**   | 0            | 12          |\n",
    "|**ALL**    | 36           | 57          |\n",
    "\n",
    "![So cute!](https://images.petpress.net/wp-content/uploads/2019/10/chihuahua-9-1.jpg?strip=all&lossy=1&ssl=1 \"Chihuahuas are a good family pet.\")"
   ]
  },
  {
   "cell_type": "code",
   "execution_count": null,
   "metadata": {},
   "outputs": [],
   "source": []
  }
 ],
 "metadata": {
  "kernelspec": {
   "display_name": "Python",
   "language": "python",
   "name": "conda-env-python-py"
  },
  "language_info": {
   "codemirror_mode": {
    "name": "ipython",
    "version": 3
   },
   "file_extension": ".py",
   "mimetype": "text/x-python",
   "name": "python",
   "nbconvert_exporter": "python",
   "pygments_lexer": "ipython3",
   "version": "3.7.12"
  }
 },
 "nbformat": 4,
 "nbformat_minor": 4
}
